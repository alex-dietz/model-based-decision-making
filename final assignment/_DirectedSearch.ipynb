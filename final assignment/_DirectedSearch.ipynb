{
 "cells": [
  {
   "attachments": {},
   "cell_type": "markdown",
   "metadata": {},
   "source": [
    "### Direct Search"
   ]
  },
  {
   "cell_type": "code",
   "execution_count": null,
   "metadata": {},
   "outputs": [],
   "source": [
    "# Libraries\n",
    "import numpy as np\n",
    "import matplotlib.pyplot as plt\n",
    "import pandas as pd\n",
    "import seaborn as sns\n",
    "\n",
    "# EMA\n",
    "from ema_workbench import (Model, RealParameter,  MultiprocessingEvaluator, TimeSeriesOutcome, perform_experiments, ema_logging)\n",
    "from ema_workbench import Samplers\n",
    "from ema_workbench import save_results, load_results\n",
    "from ema_workbench.analysis import feature_scoring\n",
    "from ema_workbench.analysis.scenario_discovery_util import RuleInductionType\n",
    "from ema_workbench.em_framework.optimization import EpsilonProgress, HyperVolume\n",
    "from ema_workbench.em_framework.salib_samplers import get_SALib_problem\n",
    "\n",
    "# Analytical Tools\n",
    "from SALib.analyze import sobol\n",
    "\n",
    "# Model\n",
    "from problem_formulation import get_model_for_problem_formulation\n",
    "ema_logging.log_to_stderr(ema_logging.INFO)"
   ]
  },
  {
   "attachments": {},
   "cell_type": "markdown",
   "metadata": {},
   "source": [
    "### Initialize Model"
   ]
  },
  {
   "cell_type": "code",
   "execution_count": null,
   "metadata": {},
   "outputs": [],
   "source": [
    "# Set Model Parameters\n",
    "model, steps = get_model_for_problem_formulation(1)\n",
    "\n",
    "uncertainties = model.uncertainties\n",
    "levers = model.levers\n",
    "outcomes = model.outcomes\n",
    "\n",
    "# Reference Scenario\n",
    "ref_val = {'Bmax': 175, \n",
    "           'Brate': 1.5, \n",
    "           'pfail': 0.5,\n",
    "            'discount rate': 3.5,\n",
    "            'ID flood wave shape': 4}\n",
    "\n",
    "ref_dict = {}\n",
    "# < ref_dict >\n",
    "# reference scenario updated for all dike rings\n",
    "for key in model.uncertainties:\n",
    "    name_split = key.name.split('_')\n",
    "    if len(name_split) == 1:\n",
    "        if key.name in ref_val.keys():\n",
    "            ref_dict.update({key.name: ref_val[name]})\n",
    "    else:\n",
    "        ref_dict.update({key.name: ref_val[name_split[1]]})\n",
    "\n",
    "ref_scenario = Scenario('reference', **ref_dict)\n",
    "\n",
    "# Optimization Parameters\n",
    "\n",
    "convergence_metrics = [EpsilonProgress()]\n",
    "nfe = 100000"
   ]
  },
  {
   "cell_type": "code",
   "execution_count": null,
   "metadata": {},
   "outputs": [],
   "source": [
    "ema_logging.log_to_stderr(ema_logging.INFO)\n",
    "with MultiprocessingEvaluator(model) as evaluator:\n",
    "         results, convergence = evaluator.optimize(nfe=nfe,\n",
    "                                                  searchover='levers',\n",
    "                                                   epsilons=[0.1,]*len(model.outcomes),\n",
    "                                                   convergence=convergence_metrics,\n",
    "                                                   reference=ref_scenario\n",
    "                                                   )"
   ]
  },
  {
   "attachments": {},
   "cell_type": "markdown",
   "metadata": {},
   "source": [
    "### Run Optimization on Lever Space\n",
    "Find candidate policies"
   ]
  },
  {
   "cell_type": "code",
   "execution_count": null,
   "metadata": {},
   "outputs": [],
   "source": [
    "results="
   ]
  },
  {
   "attachments": {},
   "cell_type": "markdown",
   "metadata": {},
   "source": [
    "### Reduction of pareto set of candiate policies at hand criteria-extent distribution"
   ]
  },
  {
   "cell_type": "code",
   "execution_count": null,
   "metadata": {},
   "outputs": [],
   "source": []
  },
  {
   "attachments": {},
   "cell_type": "markdown",
   "metadata": {},
   "source": [
    "### Robustness analysis\n"
   ]
  },
  {
   "attachments": {},
   "cell_type": "markdown",
   "metadata": {},
   "source": []
  },
  {
   "attachments": {},
   "cell_type": "markdown",
   "metadata": {},
   "source": [
    "### Visualization for Robustness"
   ]
  },
  {
   "cell_type": "code",
   "execution_count": null,
   "metadata": {},
   "outputs": [],
   "source": []
  }
 ],
 "metadata": {
  "language_info": {
   "name": "python"
  },
  "orig_nbformat": 4
 },
 "nbformat": 4,
 "nbformat_minor": 2
}
